{
  "cells": [
    {
      "cell_type": "markdown",
      "metadata": {
        "id": "view-in-github",
        "colab_type": "text"
      },
      "source": [
        "<a href=\"https://colab.research.google.com/github/junaidshah2001/Logistic-Regression-Loss-Cost-Function-Implementation/blob/main/C1_W3_Lab04_LogisticLoss_Soln.ipynb\" target=\"_parent\"><img src=\"https://colab.research.google.com/assets/colab-badge.svg\" alt=\"Open In Colab\"/></a>"
      ]
    },
    {
      "cell_type": "markdown",
      "metadata": {
        "id": "m1gnakqlGnjW"
      },
      "source": [
        "# Optional Lab: Logistic Regression, Logistic Loss\n",
        "\n",
        "In this ungraded lab, you will:\n",
        "- explore the reason the squared error loss is not appropriate for logistic regression\n",
        "- explore the logistic loss function"
      ],
      "id": "m1gnakqlGnjW"
    },
    {
      "cell_type": "code",
      "execution_count": null,
      "metadata": {
        "id": "sLEBsTnWGnjb"
      },
      "outputs": [],
      "source": [
        "import numpy as np\n",
        "%matplotlib widget\n",
        "import matplotlib.pyplot as plt\n",
        "from plt_logistic_loss import  plt_logistic_cost, plt_two_logistic_loss_curves, plt_simple_example\n",
        "from plt_logistic_loss import soup_bowl, plt_logistic_squared_error\n",
        "plt.style.use('./deeplearning.mplstyle')"
      ],
      "id": "sLEBsTnWGnjb"
    },
    {
      "cell_type": "markdown",
      "metadata": {
        "id": "lYrH_P8jGnjd"
      },
      "source": [
        "## Squared error for logistic regression?\n",
        "<img align=\"left\" src=\"./images/C1_W3_SqErrorVsLogistic.png\"     style=\" width:400px; padding: 10px; \" > Recall for **Linear** Regression we have used the **squared error cost function**:\n",
        "The equation for the squared error cost with one variable is:\n",
        "  $$J(w,b) = \\frac{1}{2m} \\sum\\limits_{i = 0}^{m-1} (f_{w,b}(x^{(i)}) - y^{(i)})^2 \\tag{1}$$\n",
        "\n",
        "where\n",
        "  $$f_{w,b}(x^{(i)}) = wx^{(i)} + b \\tag{2}$$\n"
      ],
      "id": "lYrH_P8jGnjd"
    },
    {
      "cell_type": "markdown",
      "metadata": {
        "id": "8aulXoRhGnje"
      },
      "source": [
        "Recall, the squared error cost had the nice property that following the derivative of the cost leads to the minimum."
      ],
      "id": "8aulXoRhGnje"
    },
    {
      "cell_type": "code",
      "execution_count": null,
      "metadata": {
        "id": "xtnB3rtaGnje",
        "outputId": "87152546-6403-45ec-d49a-9234d47d3075",
        "colab": {
          "referenced_widgets": [
            "09d4c34be8a44921921f08e37b6098d5"
          ]
        }
      },
      "outputs": [
        {
          "data": {
            "application/vnd.jupyter.widget-view+json": {
              "model_id": "09d4c34be8a44921921f08e37b6098d5",
              "version_major": 2,
              "version_minor": 0
            },
            "text/plain": [
              "Canvas(toolbar=Toolbar(toolitems=[('Home', 'Reset original view', 'home', 'home'), ('Back', 'Back to previous …"
            ]
          },
          "metadata": {},
          "output_type": "display_data"
        }
      ],
      "source": [
        "soup_bowl()"
      ],
      "id": "xtnB3rtaGnje"
    },
    {
      "cell_type": "markdown",
      "metadata": {
        "id": "BB2mxfoIGnjf"
      },
      "source": [
        "This cost function worked well for linear regression, it is natural to consider it for logistic regression as well. However, as the slide above points out, $f_{wb}(x)$ now has a non-linear component, the sigmoid function:   $f_{w,b}(x^{(i)}) = sigmoid(wx^{(i)} + b )$.   Let's try a squared error cost on the example from an earlier lab, now including the sigmoid.\n",
        "\n",
        "Here is our training data:"
      ],
      "id": "BB2mxfoIGnjf"
    },
    {
      "cell_type": "code",
      "execution_count": null,
      "metadata": {
        "id": "V1Y7YWgnGnjg",
        "outputId": "d3251da0-fd57-4ed3-d5da-55b6cac4a79e",
        "colab": {
          "referenced_widgets": [
            "16a4567f3f0e45ed9174148be4504186"
          ]
        }
      },
      "outputs": [
        {
          "data": {
            "application/vnd.jupyter.widget-view+json": {
              "model_id": "16a4567f3f0e45ed9174148be4504186",
              "version_major": 2,
              "version_minor": 0
            },
            "text/plain": [
              "Canvas(toolbar=Toolbar(toolitems=[('Home', 'Reset original view', 'home', 'home'), ('Back', 'Back to previous …"
            ]
          },
          "metadata": {},
          "output_type": "display_data"
        }
      ],
      "source": [
        "x_train = np.array([0., 1, 2, 3, 4, 5],dtype=np.longdouble)\n",
        "y_train = np.array([0,  0, 0, 1, 1, 1],dtype=np.longdouble)\n",
        "plt_simple_example(x_train, y_train)"
      ],
      "id": "V1Y7YWgnGnjg"
    },
    {
      "cell_type": "markdown",
      "metadata": {
        "id": "mX3vU8KrGnjg"
      },
      "source": [
        "Now, let's get a surface plot of the cost using a *squared error cost*:\n",
        "  $$J(w,b) = \\frac{1}{2m} \\sum\\limits_{i = 0}^{m-1} (f_{w,b}(x^{(i)}) - y^{(i)})^2 $$\n",
        "\n",
        "where\n",
        "  $$f_{w,b}(x^{(i)}) = sigmoid(wx^{(i)} + b )$$\n"
      ],
      "id": "mX3vU8KrGnjg"
    },
    {
      "cell_type": "code",
      "execution_count": null,
      "metadata": {
        "id": "JX-Dj2eEGnjg",
        "outputId": "b1da20cc-3c99-4765-fe11-634e590c526b",
        "colab": {
          "referenced_widgets": [
            "c358d18e3d984482996d3d91e02d19e1"
          ]
        }
      },
      "outputs": [
        {
          "data": {
            "application/vnd.jupyter.widget-view+json": {
              "model_id": "c358d18e3d984482996d3d91e02d19e1",
              "version_major": 2,
              "version_minor": 0
            },
            "text/plain": [
              "Canvas(toolbar=Toolbar(toolitems=[('Home', 'Reset original view', 'home', 'home'), ('Back', 'Back to previous …"
            ]
          },
          "metadata": {},
          "output_type": "display_data"
        }
      ],
      "source": [
        "plt.close('all')\n",
        "plt_logistic_squared_error(x_train,y_train)\n",
        "plt.show()"
      ],
      "id": "JX-Dj2eEGnjg"
    },
    {
      "cell_type": "markdown",
      "metadata": {
        "id": "wRnODibkGnjh"
      },
      "source": [
        "While this produces a pretty interesting plot, the surface above not nearly as smooth as the 'soup bowl' from linear regression!    \n",
        "\n",
        "Logistic regression requires a cost function more suitable to its non-linear nature. This starts with a Loss function. This is described below."
      ],
      "id": "wRnODibkGnjh"
    },
    {
      "cell_type": "markdown",
      "metadata": {
        "id": "2XdqSaNJGnjh"
      },
      "source": [
        "## Logistic Loss Function\n",
        "<img align=\"left\" src=\"./images/C1_W3_LogisticLoss_a.png\"     style=\" width:250px; padding: 2px; \" >\n",
        "<img align=\"left\" src=\"./images/C1_W3_LogisticLoss_b.png\"     style=\" width:250px; padding: 2px; \" >\n",
        "<img align=\"left\" src=\"./images/C1_W3_LogisticLoss_c.png\"     style=\" width:250px; padding: 2px; \" >"
      ],
      "id": "2XdqSaNJGnjh"
    },
    {
      "cell_type": "markdown",
      "metadata": {
        "id": "4Z3hqh-NGnji"
      },
      "source": [
        "Logistic Regression uses a loss function more suited to the task of categorization where the target is 0 or 1 rather than any number.\n",
        "\n",
        ">**Definition Note:**   In this course, these definitions are used:  \n",
        "**Loss** is a measure of the difference of a single example to its target value while the  \n",
        "**Cost** is a measure of the losses over the training set\n",
        "\n",
        "\n",
        "This is defined:\n",
        "* $loss(f_{\\mathbf{w},b}(\\mathbf{x}^{(i)}), y^{(i)})$ is the cost for a single data point, which is:\n",
        "\n",
        "\\begin{equation}\n",
        "  loss(f_{\\mathbf{w},b}(\\mathbf{x}^{(i)}), y^{(i)}) = \\begin{cases}\n",
        "    - \\log\\left(f_{\\mathbf{w},b}\\left( \\mathbf{x}^{(i)} \\right) \\right) & \\text{if $y^{(i)}=1$}\\\\\n",
        "    - \\log \\left( 1 - f_{\\mathbf{w},b}\\left( \\mathbf{x}^{(i)} \\right) \\right) & \\text{if $y^{(i)}=0$}\n",
        "  \\end{cases}\n",
        "\\end{equation}\n",
        "\n",
        "\n",
        "*  $f_{\\mathbf{w},b}(\\mathbf{x}^{(i)})$ is the model's prediction, while $y^{(i)}$ is the target value.\n",
        "\n",
        "*  $f_{\\mathbf{w},b}(\\mathbf{x}^{(i)}) = g(\\mathbf{w} \\cdot\\mathbf{x}^{(i)}+b)$ where function $g$ is the sigmoid function.\n",
        "* Notational convention: `log` means the natural logarithm.\n",
        "\n",
        "The defining feature of this loss function is the fact that it uses two separate curves. One for the case when the target is zero or ($y=0$) and another for when the target is one ($y=1$). Combined, these curves provide the behavior useful for a loss function, namely, being zero when the prediction matches the target and rapidly increasing in value as the prediction differs from the target. Consider the curves below:"
      ],
      "id": "4Z3hqh-NGnji"
    },
    {
      "cell_type": "code",
      "execution_count": null,
      "metadata": {
        "id": "1x671LMwGnji",
        "outputId": "c5b75568-f385-44c7-d154-eafc76f7ed84",
        "colab": {
          "referenced_widgets": [
            "5d52434466f8498c81f07ca00b34927f"
          ]
        }
      },
      "outputs": [
        {
          "data": {
            "application/vnd.jupyter.widget-view+json": {
              "model_id": "5d52434466f8498c81f07ca00b34927f",
              "version_major": 2,
              "version_minor": 0
            },
            "text/plain": [
              "Canvas(toolbar=Toolbar(toolitems=[('Home', 'Reset original view', 'home', 'home'), ('Back', 'Back to previous …"
            ]
          },
          "metadata": {},
          "output_type": "display_data"
        }
      ],
      "source": [
        "plt_two_logistic_loss_curves()"
      ],
      "id": "1x671LMwGnji"
    },
    {
      "cell_type": "markdown",
      "metadata": {
        "id": "rrXam8kRGnji"
      },
      "source": [
        "Combined, the curves are similar to the quadratic curve of the squared error loss. Note, the x-axis is $f_{\\mathbf{w},b}$ which is the output of a sigmoid. The sigmoid output is strictly between 0 and 1."
      ],
      "id": "rrXam8kRGnji"
    },
    {
      "cell_type": "markdown",
      "metadata": {
        "id": "mzegjCFjGnjj"
      },
      "source": [
        "The loss function above can be rewritten to be easier to implement.\n",
        "    $$loss(f_{\\mathbf{w},b}(\\mathbf{x}^{(i)}), y^{(i)}) = (-y^{(i)} \\log\\left(f_{\\mathbf{w},b}\\left( \\mathbf{x}^{(i)} \\right) \\right) - \\left( 1 - y^{(i)}\\right) \\log \\left( 1 - f_{\\mathbf{w},b}\\left( \\mathbf{x}^{(i)} \\right) \\right)$$\n",
        "  \n",
        "This is a rather formidable-looking equation. It is less daunting when you consider $y^{(i)}$ can have only two values, 0 and 1. One can then consider the equation in two pieces:  \n",
        "when $ y^{(i)} = 0$, the left-hand term is eliminated:\n",
        "$$\n",
        "\\begin{align}\n",
        "loss(f_{\\mathbf{w},b}(\\mathbf{x}^{(i)}), 0) &= (-(0) \\log\\left(f_{\\mathbf{w},b}\\left( \\mathbf{x}^{(i)} \\right) \\right) - \\left( 1 - 0\\right) \\log \\left( 1 - f_{\\mathbf{w},b}\\left( \\mathbf{x}^{(i)} \\right) \\right) \\\\\n",
        "&= -\\log \\left( 1 - f_{\\mathbf{w},b}\\left( \\mathbf{x}^{(i)} \\right) \\right)\n",
        "\\end{align}\n",
        "$$\n",
        "and when $ y^{(i)} = 1$, the right-hand term is eliminated:\n",
        "$$\n",
        "\\begin{align}\n",
        "  loss(f_{\\mathbf{w},b}(\\mathbf{x}^{(i)}), 1) &=  (-(1) \\log\\left(f_{\\mathbf{w},b}\\left( \\mathbf{x}^{(i)} \\right) \\right) - \\left( 1 - 1\\right) \\log \\left( 1 - f_{\\mathbf{w},b}\\left( \\mathbf{x}^{(i)} \\right) \\right)\\\\\n",
        "  &=  -\\log\\left(f_{\\mathbf{w},b}\\left( \\mathbf{x}^{(i)} \\right) \\right)\n",
        "\\end{align}\n",
        "$$\n",
        "\n",
        "OK, with this new logistic loss function, a cost function can be produced that incorporates the loss from all the examples. This will be the topic of the next lab. For now, let's take a look at the cost vs parameters curve for the simple example we considered above:"
      ],
      "id": "mzegjCFjGnjj"
    },
    {
      "cell_type": "code",
      "execution_count": null,
      "metadata": {
        "id": "09hzO3yXGnjj",
        "outputId": "62b8abe1-e17c-4157-f8df-603f22dd611d",
        "colab": {
          "referenced_widgets": [
            "f7702edceea041cbb44b7a046f0413c8"
          ]
        }
      },
      "outputs": [
        {
          "data": {
            "application/vnd.jupyter.widget-view+json": {
              "model_id": "f7702edceea041cbb44b7a046f0413c8",
              "version_major": 2,
              "version_minor": 0
            },
            "text/plain": [
              "Canvas(toolbar=Toolbar(toolitems=[('Home', 'Reset original view', 'home', 'home'), ('Back', 'Back to previous …"
            ]
          },
          "metadata": {},
          "output_type": "display_data"
        }
      ],
      "source": [
        "plt.close('all')\n",
        "cst = plt_logistic_cost(x_train,y_train)"
      ],
      "id": "09hzO3yXGnjj"
    },
    {
      "cell_type": "markdown",
      "metadata": {
        "id": "PYzAhZsPGnjj"
      },
      "source": [
        "This curve is well suited to gradient descent! It does not have plateaus, local minima, or discontinuities. Note, it is not a bowl as in the case of squared error. Both the cost and the log of the cost are plotted to illuminate the fact that the curve, when the cost is small, has a slope and continues to decline. Reminder: you can rotate the above plots using your mouse."
      ],
      "id": "PYzAhZsPGnjj"
    },
    {
      "cell_type": "markdown",
      "metadata": {
        "id": "UhiPAyY2Gnjj"
      },
      "source": [
        "## Congratulations!  \n",
        "You have:\n",
        " - determined a squared error loss function is not suitable for classification tasks\n",
        " - developed and examined the logistic loss function which **is** suitable for classification tasks.\n",
        "\n"
      ],
      "id": "UhiPAyY2Gnjj"
    }
  ],
  "metadata": {
    "kernelspec": {
      "display_name": "Python 3",
      "language": "python",
      "name": "python3"
    },
    "language_info": {
      "codemirror_mode": {
        "name": "ipython",
        "version": 3
      },
      "file_extension": ".py",
      "mimetype": "text/x-python",
      "name": "python",
      "nbconvert_exporter": "python",
      "pygments_lexer": "ipython3",
      "version": "3.7.6"
    },
    "toc-showcode": true,
    "colab": {
      "provenance": [],
      "include_colab_link": true
    }
  },
  "nbformat": 4,
  "nbformat_minor": 5
}